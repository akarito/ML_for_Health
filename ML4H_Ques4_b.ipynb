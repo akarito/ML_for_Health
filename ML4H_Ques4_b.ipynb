{
 "cells": [
  {
   "cell_type": "code",
   "execution_count": 15,
   "metadata": {},
   "outputs": [],
   "source": [
    "import pandas as pd\n",
    "import numpy as np\n",
    "import matplotlib.pyplot as plt\n",
    "from nltk.corpus import stopwords\n",
    "from sklearn.feature_extraction.text import TfidfVectorizer\n",
    "from sklearn.feature_extraction.text import CountVectorizer\n",
    "from sklearn.linear_model import LogisticRegression\n",
    "from sklearn import metrics\n",
    "import seaborn as sns\n",
    "import nltk\n",
    "from nltk.corpus import stopwords\n",
    "from nltk.corpus import words\n",
    "stop = stopwords.words('english')"
   ]
  },
  {
   "cell_type": "markdown",
   "metadata": {},
   "source": [
    "# Reading data in a dataframe"
   ]
  },
  {
   "cell_type": "code",
   "execution_count": 2,
   "metadata": {},
   "outputs": [],
   "source": [
    "#Reading data to a pandas dataframe\n",
    "df=pd.read_csv(\"C:/Users/Public/Output/adult_notes/adult_notes.csv\")"
   ]
  },
  {
   "cell_type": "code",
   "execution_count": 3,
   "metadata": {},
   "outputs": [],
   "source": [
    "#converting from object to string\n",
    "df['chartext'] = df['chartext'].astype(str)"
   ]
  },
  {
   "cell_type": "markdown",
   "metadata": {},
   "source": [
    "# Tokenization using NTLK and removing punctuation"
   ]
  },
  {
   "cell_type": "code",
   "execution_count": 4,
   "metadata": {},
   "outputs": [],
   "source": [
    "\n",
    "#Tokenize and remove punctuation\n",
    "from nltk.tokenize import RegexpTokenizer\n",
    "tokenizer = RegexpTokenizer(r'\\w+')\n",
    "df['chartext'] = df.apply(lambda row: tokenizer.tokenize(str(row['chartext'])), axis=1)\n"
   ]
  },
  {
   "cell_type": "code",
   "execution_count": 5,
   "metadata": {},
   "outputs": [],
   "source": [
    "#converting from object to string\n",
    "df['chartext'] = df['chartext'].astype(str)\n",
    "#df['chartext'] =df['chartext'].apply(lambda x: [item for item in x if item.lower() not in stop and not item.isdigit()])"
   ]
  },
  {
   "cell_type": "markdown",
   "metadata": {},
   "source": [
    "# Splitting the dataframe into test and train set"
   ]
  },
  {
   "cell_type": "code",
   "execution_count": 6,
   "metadata": {},
   "outputs": [],
   "source": [
    "df_test = df.loc[df['train'] == 0]\n",
    "df_train = df.loc[df['train'] == 1]\n",
    "x_train=df_train['chartext']\n",
    "y_train=df_train['mort_icu'] \n",
    "x_test=df_test['chartext']\n",
    "y_test=df_test['mort_icu']"
   ]
  },
  {
   "cell_type": "markdown",
   "metadata": {},
   "source": [
    "# TF-IDF to transform bag-of-word counts into numerical features "
   ]
  },
  {
   "cell_type": "code",
   "execution_count": 35,
   "metadata": {},
   "outputs": [
    {
     "data": {
      "text/plain": [
       "<19166x105220 sparse matrix of type '<class 'numpy.float64'>'\n",
       "\twith 9647858 stored elements in Compressed Sparse Row format>"
      ]
     },
     "execution_count": 35,
     "metadata": {},
     "output_type": "execute_result"
    }
   ],
   "source": [
    "#TDIDF on train data and removing stopwords \n",
    "vectorizer = TfidfVectorizer(lowercase=True,analyzer='word',token_pattern='[A-Za-z]+',stop_words= 'english',ngram_range=(1,1))\n",
    "train_vect = vectorizer.fit_transform(df_train['chartext'])\n",
    "train_vect"
   ]
  },
  {
   "cell_type": "code",
   "execution_count": 36,
   "metadata": {},
   "outputs": [],
   "source": [
    "#TDIDF on test data x_test.apply(lambda x: np.str_(x))\n",
    "test_vect = vectorizer.transform(x_test)"
   ]
  },
  {
   "cell_type": "markdown",
   "metadata": {},
   "source": [
    "# Training logistic regression model"
   ]
  },
  {
   "cell_type": "code",
   "execution_count": 37,
   "metadata": {},
   "outputs": [
    {
     "name": "stderr",
     "output_type": "stream",
     "text": [
      "C:\\Users\\manis\\Anaconda3\\lib\\site-packages\\sklearn\\linear_model\\logistic.py:432: FutureWarning: Default solver will be changed to 'lbfgs' in 0.22. Specify a solver to silence this warning.\n",
      "  FutureWarning)\n"
     ]
    },
    {
     "data": {
      "text/plain": [
       "LogisticRegression(C=1.0, class_weight=None, dual=False, fit_intercept=True,\n",
       "                   intercept_scaling=1, l1_ratio=None, max_iter=5000,\n",
       "                   multi_class='warn', n_jobs=None, penalty='l1',\n",
       "                   random_state=None, solver='warn', tol=0.0001, verbose=0,\n",
       "                   warm_start=False)"
      ]
     },
     "execution_count": 37,
     "metadata": {},
     "output_type": "execute_result"
    }
   ],
   "source": [
    "#Regression model\n",
    "logreg = LogisticRegression(penalty='l1',max_iter=5000)\n",
    "logreg.fit(train_vect,y_train)"
   ]
  },
  {
   "cell_type": "markdown",
   "metadata": {},
   "source": [
    "# Predicting using the trained model "
   ]
  },
  {
   "cell_type": "code",
   "execution_count": 38,
   "metadata": {},
   "outputs": [],
   "source": [
    "y_pred=logreg.predict(test_vect)"
   ]
  },
  {
   "cell_type": "markdown",
   "metadata": {},
   "source": [
    "# Determine model performance (ROC and AUC score)"
   ]
  },
  {
   "cell_type": "code",
   "execution_count": 39,
   "metadata": {},
   "outputs": [
    {
     "data": {
      "text/plain": [
       "array([[7302,   67],\n",
       "       [ 709,  104]], dtype=int64)"
      ]
     },
     "execution_count": 39,
     "metadata": {},
     "output_type": "execute_result"
    }
   ],
   "source": [
    "#Confusion Matrix \n",
    "cnf_matrix = metrics.confusion_matrix(y_test, y_pred)\n",
    "cnf_matrix\n"
   ]
  },
  {
   "cell_type": "code",
   "execution_count": 40,
   "metadata": {},
   "outputs": [
    {
     "data": {
      "text/plain": [
       "Text(0.5, 257.44, 'Predicted label')"
      ]
     },
     "execution_count": 40,
     "metadata": {},
     "output_type": "execute_result"
    },
    {
     "data": {
      "image/png": "[encoded data removed]",
      "text/plain": [
       "<Figure size 432x288 with 2 Axes>"
      ]
     },
     "metadata": {
      "needs_background": "light"
     },
     "output_type": "display_data"
    }
   ],
   "source": [
    "#Heat map\n",
    "class_names=[0,1] # name  of classes\n",
    "fig, ax = plt.subplots()\n",
    "tick_marks = np.arange(len(class_names))\n",
    "plt.xticks(tick_marks, class_names)\n",
    "plt.yticks(tick_marks, class_names)\n",
    "# create heatmap\n",
    "ax=sns.heatmap(pd.DataFrame(cnf_matrix), annot=True, cmap=\"YlGnBu\" ,fmt='g',linewidths=2,linecolor='black')\n",
    "bottom, top = ax.get_ylim()\n",
    "ax.set_ylim(bottom + 0.5, top - 0.5)\n",
    "ax.xaxis.set_label_position(\"top\")\n",
    "plt.tight_layout()\n",
    "plt.title('Confusion matrix', y=1.1)\n",
    "plt.ylabel('Actual label')\n",
    "plt.xlabel('Predicted label')"
   ]
  },
  {
   "cell_type": "code",
   "execution_count": 41,
   "metadata": {},
   "outputs": [
    {
     "name": "stdout",
     "output_type": "stream",
     "text": [
      "Accuracy: 0.9051576631630408\n",
      "Precision: 0.6081871345029239\n",
      "Recall: 0.12792127921279212\n"
     ]
    }
   ],
   "source": [
    "#Accuracy, Precision and recall\n",
    "print(\"Accuracy:\",metrics.accuracy_score(y_test, y_pred))\n",
    "print(\"Precision:\",metrics.precision_score(y_test, y_pred))\n",
    "print(\"Recall:\",metrics.recall_score(y_test, y_pred))"
   ]
  },
  {
   "cell_type": "code",
   "execution_count": 42,
   "metadata": {},
   "outputs": [
    {
     "data": {
      "image/png": "[encoded data removed]",
      "text/plain": [
       "<Figure size 432x288 with 1 Axes>"
      ]
     },
     "metadata": {
      "needs_background": "light"
     },
     "output_type": "display_data"
    }
   ],
   "source": [
    "#ROC Curve\n",
    "y_pred_proba = logreg.predict_proba(test_vect)[::,1]\n",
    "fpr, tpr, _ = metrics.roc_curve(y_test,  y_pred_proba)\n",
    "auc = metrics.roc_auc_score(y_test, y_pred_proba)\n",
    "plt.plot(fpr,tpr,label=\"data 4b, auc=\"+str(auc),color='red')\n",
    "plt.plot([0, 1], [0, 1], color='blue')\n",
    "plt.legend(loc=4)\n",
    "plt.xlabel('False Positive Rate')\n",
    "plt.ylabel('True Positive Rate')\n",
    "plt.title('Receiver operating characteristic')\n",
    "plt.legend(loc=\"lower right\")\n",
    "plt.show()"
   ]
  },
  {
   "cell_type": "markdown",
   "metadata": {},
   "source": [
    "# Determine top 5 and lowest 5 features"
   ]
  },
  {
   "cell_type": "code",
   "execution_count": 32,
   "metadata": {},
   "outputs": [],
   "source": [
    "Coef_table=pd.DataFrame()\n",
    "Coef_table['Words'] = vectorizer.get_feature_names()\n",
    "Coef_table['coef'] = logreg.coef_[0]\n",
    "Coef_table = Coef_table.sort_values('coef')\n"
   ]
  },
  {
   "cell_type": "code",
   "execution_count": 33,
   "metadata": {},
   "outputs": [
    {
     "name": "stdout",
     "output_type": "stream",
     "text": [
      "Top 5 words associated with high mortality\n"
     ]
    },
    {
     "data": {
      "text/html": [
       "<div>\n",
       "<style scoped>\n",
       "    .dataframe tbody tr th:only-of-type {\n",
       "        vertical-align: middle;\n",
       "    }\n",
       "\n",
       "    .dataframe tbody tr th {\n",
       "        vertical-align: top;\n",
       "    }\n",
       "\n",
       "    .dataframe thead th {\n",
       "        text-align: right;\n",
       "    }\n",
       "</style>\n",
       "<table border=\"1\" class=\"dataframe\">\n",
       "  <thead>\n",
       "    <tr style=\"text-align: right;\">\n",
       "      <th></th>\n",
       "      <th>Words</th>\n",
       "      <th>coef</th>\n",
       "    </tr>\n",
       "  </thead>\n",
       "  <tbody>\n",
       "    <tr>\n",
       "      <td>171577</td>\n",
       "      <td>worsening</td>\n",
       "      <td>6.520582</td>\n",
       "    </tr>\n",
       "    <tr>\n",
       "      <td>91906</td>\n",
       "      <td>dnr</td>\n",
       "      <td>8.113452</td>\n",
       "    </tr>\n",
       "    <tr>\n",
       "      <td>81951</td>\n",
       "      <td>cmo</td>\n",
       "      <td>8.983028</td>\n",
       "    </tr>\n",
       "    <tr>\n",
       "      <td>85111</td>\n",
       "      <td>corneal</td>\n",
       "      <td>9.115000</td>\n",
       "    </tr>\n",
       "    <tr>\n",
       "      <td>140195</td>\n",
       "      <td>prognosis</td>\n",
       "      <td>12.320256</td>\n",
       "    </tr>\n",
       "  </tbody>\n",
       "</table>\n",
       "</div>"
      ],
      "text/plain": [
       "            Words       coef\n",
       "171577  worsening   6.520582\n",
       "91906         dnr   8.113452\n",
       "81951         cmo   8.983028\n",
       "85111     corneal   9.115000\n",
       "140195  prognosis  12.320256"
      ]
     },
     "execution_count": 33,
     "metadata": {},
     "output_type": "execute_result"
    }
   ],
   "source": [
    "print(\"Top 5 words associated with high mortality\")\n",
    "Coef_table.iloc[-5:]"
   ]
  },
  {
   "cell_type": "code",
   "execution_count": 34,
   "metadata": {},
   "outputs": [
    {
     "name": "stdout",
     "output_type": "stream",
     "text": [
      "Lowest 5 words associated with high mortality\n"
     ]
    },
    {
     "data": {
      "text/html": [
       "<div>\n",
       "<style scoped>\n",
       "    .dataframe tbody tr th:only-of-type {\n",
       "        vertical-align: middle;\n",
       "    }\n",
       "\n",
       "    .dataframe tbody tr th {\n",
       "        vertical-align: top;\n",
       "    }\n",
       "\n",
       "    .dataframe thead th {\n",
       "        text-align: right;\n",
       "    }\n",
       "</style>\n",
       "<table border=\"1\" class=\"dataframe\">\n",
       "  <thead>\n",
       "    <tr style=\"text-align: right;\">\n",
       "      <th></th>\n",
       "      <th>Words</th>\n",
       "      <th>coef</th>\n",
       "    </tr>\n",
       "  </thead>\n",
       "  <tbody>\n",
       "    <tr>\n",
       "      <td>98929</td>\n",
       "      <td>extubation</td>\n",
       "      <td>-14.961711</td>\n",
       "    </tr>\n",
       "    <tr>\n",
       "      <td>90012</td>\n",
       "      <td>diet</td>\n",
       "      <td>-12.259628</td>\n",
       "    </tr>\n",
       "    <tr>\n",
       "      <td>81454</td>\n",
       "      <td>clear</td>\n",
       "      <td>-10.886578</td>\n",
       "    </tr>\n",
       "    <tr>\n",
       "      <td>98916</td>\n",
       "      <td>extubated</td>\n",
       "      <td>-6.513061</td>\n",
       "    </tr>\n",
       "    <tr>\n",
       "      <td>128094</td>\n",
       "      <td>normal</td>\n",
       "      <td>-5.778392</td>\n",
       "    </tr>\n",
       "  </tbody>\n",
       "</table>\n",
       "</div>"
      ],
      "text/plain": [
       "             Words       coef\n",
       "98929   extubation -14.961711\n",
       "90012         diet -12.259628\n",
       "81454        clear -10.886578\n",
       "98916    extubated  -6.513061\n",
       "128094      normal  -5.778392"
      ]
     },
     "execution_count": 34,
     "metadata": {},
     "output_type": "execute_result"
    }
   ],
   "source": [
    "print(\"Lowest 5 words associated with high mortality\")\n",
    "Coef_table.iloc[:5]"
   ]
  },
  {
   "cell_type": "code",
   "execution_count": 64,
   "metadata": {},
   "outputs": [
    {
     "name": "stdout",
     "output_type": "stream",
     "text": [
      "[171577  91906  81951  85111 140195]\n"
     ]
    }
   ],
   "source": [
    "#top five factors\n",
    "coefs=logreg.coef_[0]\n",
    "top_five = np.argpartition(coefs, -5)[-5:]\n",
    "top_five_sorted=top_five[np.argsort(coefs[top_five])]\n",
    "print(top_five_sorted)"
   ]
  },
  {
   "cell_type": "code",
   "execution_count": 65,
   "metadata": {},
   "outputs": [
    {
     "name": "stdout",
     "output_type": "stream",
     "text": [
      "Top 5 risk words: \n",
      "['worsening' 'dnr' 'cmo' 'corneal' 'prognosis']\n"
     ]
    }
   ],
   "source": [
    "print(\"Top 5 risk words: \")\n",
    "print(np.array(vectorizer.get_feature_names())[top_five_sorted.astype(int)])"
   ]
  },
  {
   "cell_type": "code",
   "execution_count": 66,
   "metadata": {},
   "outputs": [],
   "source": [
    "#lowest 5 factors\n",
    "coefs=logreg.coef_[0]\n",
    "bottom_five = np.argpartition(coefs, 5)[0:5]\n",
    "bottom_five_sorted=bottom_five[np.argsort(coefs[bottom_five])]"
   ]
  },
  {
   "cell_type": "code",
   "execution_count": 67,
   "metadata": {},
   "outputs": [
    {
     "name": "stdout",
     "output_type": "stream",
     "text": [
      "Lowest 5 risk words: \n",
      "['extubation' 'diet' 'clear' 'extubated' 'normal']\n"
     ]
    }
   ],
   "source": [
    "print(\"Lowest 5 risk words: \")\n",
    "print(np.array(vectorizer.get_feature_names())[bottom_five_sorted.astype(int)])"
   ]
  },
  {
   "cell_type": "markdown",
   "metadata": {},
   "source": [
    "# Confirming top and lowest importance words using ensemble of trees"
   ]
  },
  {
   "cell_type": "code",
   "execution_count": 95,
   "metadata": {},
   "outputs": [
    {
     "name": "stderr",
     "output_type": "stream",
     "text": [
      "C:\\Users\\manis\\Anaconda3\\lib\\site-packages\\sklearn\\ensemble\\forest.py:245: FutureWarning: The default value of n_estimators will change from 10 in version 0.20 to 100 in 0.22.\n",
      "  \"10 in version 0.20 to 100 in 0.22.\", FutureWarning)\n"
     ]
    },
    {
     "data": {
      "image/png": "[encoded data removed]",
      "text/plain": [
       "<Figure size 432x288 with 1 Axes>"
      ]
     },
     "metadata": {
      "needs_background": "light"
     },
     "output_type": "display_data"
    }
   ],
   "source": [
    "from sklearn.ensemble import ExtraTreesClassifier\n",
    "import matplotlib.pyplot as plt\n",
    "model = ExtraTreesClassifier()\n",
    "model.fit(train_vect,y_train)\n",
    "#print(model.feature_importances_); #use inbuilt class feature_importances of tree based classifiers\n",
    "#plot graph of feature importances for better visualization\n",
    "feat_importances = pd.Series(model.feature_importances_, index=vectorizer.get_feature_names());\n",
    "\n",
    "#Lowest importance 5 features\n",
    "feat_importances.nlargest(5).plot(kind='barh');\n",
    "plt.xlabel('Words')\n",
    "plt.ylabel('Importance')\n",
    "plt.title('Top 5 words')\n",
    "plt.show()\n"
   ]
  },
  {
   "cell_type": "code",
   "execution_count": 96,
   "metadata": {},
   "outputs": [
    {
     "data": {
      "image/png": "[encoded data removed]",
      "text/plain": [
       "<Figure size 432x288 with 1 Axes>"
      ]
     },
     "metadata": {
      "needs_background": "light"
     },
     "output_type": "display_data"
    }
   ],
   "source": [
    "#Highest importance 5 features\n",
    "feat_importances.nsmallest(5).plot(kind='barh')\n",
    "plt.xlabel('Words')\n",
    "plt.ylabel('Importance')\n",
    "plt.title('Lowest 5 words')\n",
    "plt.show()"
   ]
  }
 ],
 "metadata": {
  "kernelspec": {
   "display_name": "Python 3",
   "language": "python",
   "name": "python3"
  },
  "language_info": {
   "codemirror_mode": {
    "name": "ipython",
    "version": 3
   },
   "file_extension": ".py",
   "mimetype": "text/x-python",
   "name": "python",
   "nbconvert_exporter": "python",
   "pygments_lexer": "ipython3",
   "version": "3.7.4"
  }
 },
 "nbformat": 4,
 "nbformat_minor": 2
}
