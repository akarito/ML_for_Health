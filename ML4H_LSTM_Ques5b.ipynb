{
 "cells": [
  {
   "cell_type": "code",
   "execution_count": 2,
   "metadata": {
    "colab": {
     "base_uri": "https://localhost:8080/",
     "height": 80
    },
    "colab_type": "code",
    "id": "8HgwNyqUptPo",
    "outputId": "52a9b5ef-fded-4b76-bf1b-f7f2cc6a4339"
   },
   "outputs": [
    {
     "name": "stderr",
     "output_type": "stream",
     "text": [
      "Using TensorFlow backend.\n"
     ]
    },
    {
     "data": {
      "text/html": [
       "<p style=\"color: red;\">\n",
       "The default version of TensorFlow in Colab will soon switch to TensorFlow 2.x.<br>\n",
       "We recommend you <a href=\"https://www.tensorflow.org/guide/migrate\" target=\"_blank\">upgrade</a> now \n",
       "or ensure your notebook will continue to use TensorFlow 1.x via the <code>%tensorflow_version 1.x</code> magic:\n",
       "<a href=\"https://colab.research.google.com/notebooks/tensorflow_version.ipynb\" target=\"_blank\">more info</a>.</p>\n"
      ],
      "text/plain": [
       "<IPython.core.display.HTML object>"
      ]
     },
     "metadata": {
      "tags": []
     },
     "output_type": "display_data"
    }
   ],
   "source": [
    "\n",
    "from enum import Enum\n",
    "from keras.preprocessing.sequence import pad_sequences\n",
    "from sklearn.linear_model import LogisticRegression\n",
    "from sklearn.metrics import confusion_matrix,roc_curve,roc_auc_score,classification_report,f1_score,recall_score\n",
    "from sklearn import preprocessing\n",
    "from keras.models import Sequential\n",
    "from keras.layers import Dense, Dropout, Activation,Flatten\n",
    "from keras.layers import LSTM\n",
    "import matplotlib.pyplot as plt\n",
    "import numpy as np\n",
    "import pandas as pd\n",
    "import pylab\n",
    "use_colab = True\n",
    "if use_colab:\n",
    "  from google.colab import drive\n"
   ]
  },
  {
   "cell_type": "code",
   "execution_count": 3,
   "metadata": {
    "colab": {
     "base_uri": "https://localhost:8080/",
     "height": 122
    },
    "colab_type": "code",
    "id": "Y270Tiy5qGES",
    "outputId": "60f42f9f-7034-4fd1-e5f9-b35efdc0ea6d"
   },
   "outputs": [
    {
     "name": "stdout",
     "output_type": "stream",
     "text": [
      "Go to this URL in a browser: https://accounts.google.com/o/oauth2/auth?client_id=947318989803-6bn6qk8qdgf4n4g3pfee6491hc0brc4i.apps.googleusercontent.com&redirect_uri=urn%3aietf%3awg%3aoauth%3a2.0%3aoob&response_type=code&scope=email%20https%3a%2f%2fwww.googleapis.com%2fauth%2fdocs.test%20https%3a%2f%2fwww.googleapis.com%2fauth%2fdrive%20https%3a%2f%2fwww.googleapis.com%2fauth%2fdrive.photos.readonly%20https%3a%2f%2fwww.googleapis.com%2fauth%2fpeopleapi.readonly\n",
      "\n",
      "Enter your authorization code:\n",
      "··········\n",
      "Mounted at /content/drive\n"
     ]
    }
   ],
   "source": [
    "if use_colab:\n",
    "  drive_name = '/content/drive'\n",
    "  drive.mount(drive_name)\n",
    "  drive_2541_A1_folder = 'CSC2541_A1'\n",
    "  drive_location = drive_name + '/My Drive/' + drive_2541_A1_folder  # Change this to where your files are located\n",
    "else:\n",
    "  # set the drive_location variable to whereever the extracted contents are.\n",
    "  drive_location = ''\n",
    "\n",
    "data_location = drive_location + '/' + 'hypertension_patients.gz'\n",
    "PARTIALLY_TRAINED_MODEL = drive_location + '/' + 'hypertension_charts.gz'"
   ]
  },
  {
   "cell_type": "code",
   "execution_count": 0,
   "metadata": {
    "colab": {},
    "colab_type": "code",
    "id": "3MFZGkkPsu2N"
   },
   "outputs": [],
   "source": [
    "# Read the file into pandas dataframe\n",
    "hypertension_patients = pd.read_csv(data_location, compression='gzip')"
   ]
  },
  {
   "cell_type": "code",
   "execution_count": 0,
   "metadata": {
    "colab": {},
    "colab_type": "code",
    "id": "U31WqC8tvXyJ"
   },
   "outputs": [],
   "source": [
    "# Read the file into pandas dataframe\n",
    "hypertension_charts = pd.read_csv(PARTIALLY_TRAINED_MODEL,compression='gzip')"
   ]
  },
  {
   "cell_type": "code",
   "execution_count": 0,
   "metadata": {
    "colab": {},
    "colab_type": "code",
    "id": "D8IPRqTiv2V7"
   },
   "outputs": [],
   "source": [
    "class measurement(Enum):\n",
    "    HEART_RATE = 220045\n",
    "    RESPIRATORY_RATE = 220210\n",
    "    O2_SATURATION = 220277\n",
    "    BLOOD_PRESSURE = 220181"
   ]
  },
  {
   "cell_type": "code",
   "execution_count": 7,
   "metadata": {
    "colab": {
     "base_uri": "https://localhost:8080/",
     "height": 1000
    },
    "colab_type": "code",
    "id": "dmM3FOjK8l0m",
    "outputId": "66f8f850-72b4-4056-eb46-cb5040363931"
   },
   "outputs": [
    {
     "name": "stdout",
     "output_type": "stream",
     "text": [
      "WARNING:tensorflow:From /usr/local/lib/python3.6/dist-packages/keras/backend/tensorflow_backend.py:66: The name tf.get_default_graph is deprecated. Please use tf.compat.v1.get_default_graph instead.\n",
      "\n",
      "WARNING:tensorflow:From /usr/local/lib/python3.6/dist-packages/keras/optimizers.py:793: The name tf.train.Optimizer is deprecated. Please use tf.compat.v1.train.Optimizer instead.\n",
      "\n",
      "WARNING:tensorflow:From /usr/local/lib/python3.6/dist-packages/keras/backend/tensorflow_backend.py:541: The name tf.placeholder is deprecated. Please use tf.compat.v1.placeholder instead.\n",
      "\n",
      "WARNING:tensorflow:From /usr/local/lib/python3.6/dist-packages/keras/backend/tensorflow_backend.py:4432: The name tf.random_uniform is deprecated. Please use tf.random.uniform instead.\n",
      "\n"
     ]
    },
    {
     "name": "stderr",
     "output_type": "stream",
     "text": [
      "/usr/local/lib/python3.6/dist-packages/ipykernel_launcher.py:49: UserWarning: Update your `Dense` call to the Keras 2 API: `Dense(1, activation=\"sigmoid\", kernel_initializer=\"normal\")`\n"
     ]
    },
    {
     "name": "stdout",
     "output_type": "stream",
     "text": [
      "WARNING:tensorflow:From /usr/local/lib/python3.6/dist-packages/keras/backend/tensorflow_backend.py:148: The name tf.placeholder_with_default is deprecated. Please use tf.compat.v1.placeholder_with_default instead.\n",
      "\n",
      "WARNING:tensorflow:From /usr/local/lib/python3.6/dist-packages/keras/backend/tensorflow_backend.py:3733: calling dropout (from tensorflow.python.ops.nn_ops) with keep_prob is deprecated and will be removed in a future version.\n",
      "Instructions for updating:\n",
      "Please use `rate` instead of `keep_prob`. Rate should be set to `rate = 1 - keep_prob`.\n",
      "WARNING:tensorflow:From /usr/local/lib/python3.6/dist-packages/keras/backend/tensorflow_backend.py:4409: The name tf.random_normal is deprecated. Please use tf.random.normal instead.\n",
      "\n",
      "WARNING:tensorflow:From /usr/local/lib/python3.6/dist-packages/keras/backend/tensorflow_backend.py:3657: The name tf.log is deprecated. Please use tf.math.log instead.\n",
      "\n",
      "WARNING:tensorflow:From /usr/local/lib/python3.6/dist-packages/tensorflow_core/python/ops/nn_impl.py:183: where (from tensorflow.python.ops.array_ops) is deprecated and will be removed in a future version.\n",
      "Instructions for updating:\n",
      "Use tf.where in 2.0, which has the same broadcast rule as np.where\n",
      "WARNING:tensorflow:From /usr/local/lib/python3.6/dist-packages/keras/backend/tensorflow_backend.py:1033: The name tf.assign_add is deprecated. Please use tf.compat.v1.assign_add instead.\n",
      "\n",
      "WARNING:tensorflow:From /usr/local/lib/python3.6/dist-packages/keras/backend/tensorflow_backend.py:1020: The name tf.assign is deprecated. Please use tf.compat.v1.assign instead.\n",
      "\n",
      "WARNING:tensorflow:From /usr/local/lib/python3.6/dist-packages/keras/backend/tensorflow_backend.py:3005: The name tf.Session is deprecated. Please use tf.compat.v1.Session instead.\n",
      "\n",
      "Train on 15413 samples, validate on 6511 samples\n",
      "Epoch 1/5\n",
      "WARNING:tensorflow:From /usr/local/lib/python3.6/dist-packages/keras/backend/tensorflow_backend.py:190: The name tf.get_default_session is deprecated. Please use tf.compat.v1.get_default_session instead.\n",
      "\n",
      "WARNING:tensorflow:From /usr/local/lib/python3.6/dist-packages/keras/backend/tensorflow_backend.py:197: The name tf.ConfigProto is deprecated. Please use tf.compat.v1.ConfigProto instead.\n",
      "\n",
      "WARNING:tensorflow:From /usr/local/lib/python3.6/dist-packages/keras/backend/tensorflow_backend.py:207: The name tf.global_variables is deprecated. Please use tf.compat.v1.global_variables instead.\n",
      "\n",
      "WARNING:tensorflow:From /usr/local/lib/python3.6/dist-packages/keras/backend/tensorflow_backend.py:216: The name tf.is_variable_initialized is deprecated. Please use tf.compat.v1.is_variable_initialized instead.\n",
      "\n",
      "WARNING:tensorflow:From /usr/local/lib/python3.6/dist-packages/keras/backend/tensorflow_backend.py:223: The name tf.variables_initializer is deprecated. Please use tf.compat.v1.variables_initializer instead.\n",
      "\n",
      "15413/15413 [==============================] - 337s 22ms/step - loss: 0.6890 - acc: 0.5517 - val_loss: 0.6840 - val_acc: 0.5683\n",
      "Epoch 2/5\n",
      "15413/15413 [==============================] - 327s 21ms/step - loss: 0.6875 - acc: 0.5609 - val_loss: 0.6837 - val_acc: 0.5683\n",
      "Epoch 3/5\n",
      "15413/15413 [==============================] - 327s 21ms/step - loss: 0.6874 - acc: 0.5602 - val_loss: 0.6854 - val_acc: 0.5684\n",
      "Epoch 4/5\n",
      "15413/15413 [==============================] - 329s 21ms/step - loss: 0.6864 - acc: 0.5619 - val_loss: 0.6851 - val_acc: 0.5686\n",
      "Epoch 5/5\n",
      "15413/15413 [==============================] - 330s 21ms/step - loss: 0.6858 - acc: 0.5626 - val_loss: 0.6847 - val_acc: 0.5686\n",
      "For measurement of HEART_RATE\n",
      "AUC:  0.5201513753642446\n",
      "F1 Score 0.0\n"
     ]
    },
    {
     "name": "stderr",
     "output_type": "stream",
     "text": [
      "/usr/local/lib/python3.6/dist-packages/ipykernel_launcher.py:49: UserWarning: Update your `Dense` call to the Keras 2 API: `Dense(1, activation=\"sigmoid\", kernel_initializer=\"normal\")`\n"
     ]
    },
    {
     "name": "stdout",
     "output_type": "stream",
     "text": [
      "Train on 15405 samples, validate on 6508 samples\n",
      "Epoch 1/5\n",
      "15405/15405 [==============================] - 340s 22ms/step - loss: 0.6900 - acc: 0.5494 - val_loss: 0.6832 - val_acc: 0.5687\n",
      "Epoch 2/5\n",
      "15405/15405 [==============================] - 339s 22ms/step - loss: 0.6859 - acc: 0.5574 - val_loss: 0.6840 - val_acc: 0.5687\n",
      "Epoch 3/5\n",
      "15405/15405 [==============================] - 339s 22ms/step - loss: 0.6850 - acc: 0.5609 - val_loss: 0.6838 - val_acc: 0.5685\n",
      "Epoch 4/5\n",
      "15405/15405 [==============================] - 340s 22ms/step - loss: 0.6844 - acc: 0.5609 - val_loss: 0.6844 - val_acc: 0.5685\n",
      "Epoch 5/5\n",
      "15405/15405 [==============================] - 339s 22ms/step - loss: 0.6837 - acc: 0.5598 - val_loss: 0.6826 - val_acc: 0.5684\n",
      "For measurement of RESPIRATORY_RATE\n",
      "AUC:  0.5434834190626417\n",
      "F1 Score 0.000711490572749911\n"
     ]
    },
    {
     "name": "stderr",
     "output_type": "stream",
     "text": [
      "/usr/local/lib/python3.6/dist-packages/ipykernel_launcher.py:49: UserWarning: Update your `Dense` call to the Keras 2 API: `Dense(1, activation=\"sigmoid\", kernel_initializer=\"normal\")`\n"
     ]
    },
    {
     "name": "stdout",
     "output_type": "stream",
     "text": [
      "Train on 15400 samples, validate on 6504 samples\n",
      "Epoch 1/5\n",
      "15400/15400 [==============================] - 345s 22ms/step - loss: 0.6911 - acc: 0.5470 - val_loss: 0.6852 - val_acc: 0.5680\n",
      "Epoch 2/5\n",
      "15400/15400 [==============================] - 345s 22ms/step - loss: 0.6886 - acc: 0.5557 - val_loss: 0.6877 - val_acc: 0.5689\n",
      "Epoch 3/5\n",
      "15400/15400 [==============================] - 345s 22ms/step - loss: 0.6870 - acc: 0.5571 - val_loss: 0.6848 - val_acc: 0.5680\n",
      "Epoch 4/5\n",
      "15400/15400 [==============================] - 344s 22ms/step - loss: 0.6870 - acc: 0.5605 - val_loss: 0.6848 - val_acc: 0.5684\n",
      "Epoch 5/5\n",
      "15400/15400 [==============================] - 342s 22ms/step - loss: 0.6870 - acc: 0.5608 - val_loss: 0.6854 - val_acc: 0.5680\n",
      "For measurement of O2_SATURATION\n",
      "AUC:  0.5169902536059096\n",
      "F1 Score 0.009167842031029619\n"
     ]
    },
    {
     "name": "stderr",
     "output_type": "stream",
     "text": [
      "/usr/local/lib/python3.6/dist-packages/ipykernel_launcher.py:49: UserWarning: Update your `Dense` call to the Keras 2 API: `Dense(1, activation=\"sigmoid\", kernel_initializer=\"normal\")`\n"
     ]
    },
    {
     "name": "stdout",
     "output_type": "stream",
     "text": [
      "Train on 15234 samples, validate on 6442 samples\n",
      "Epoch 1/5\n",
      "15234/15234 [==============================] - 337s 22ms/step - loss: 0.6890 - acc: 0.5528 - val_loss: 0.6850 - val_acc: 0.5703\n",
      "Epoch 2/5\n",
      "15234/15234 [==============================] - 336s 22ms/step - loss: 0.6858 - acc: 0.5587 - val_loss: 0.6838 - val_acc: 0.5689\n",
      "Epoch 3/5\n",
      "15234/15234 [==============================] - 335s 22ms/step - loss: 0.6855 - acc: 0.5592 - val_loss: 0.6836 - val_acc: 0.5691\n",
      "Epoch 4/5\n",
      "15234/15234 [==============================] - 335s 22ms/step - loss: 0.6846 - acc: 0.5621 - val_loss: 0.6822 - val_acc: 0.5692\n",
      "Epoch 5/5\n",
      "15234/15234 [==============================] - 336s 22ms/step - loss: 0.6853 - acc: 0.5614 - val_loss: 0.6820 - val_acc: 0.5692\n",
      "For measurement of BLOOD_PRESSURE\n",
      "AUC:  0.5308644728846041\n",
      "F1 Score 0.001439366678661389\n"
     ]
    }
   ],
   "source": [
    "for values in measurement:\n",
    "    #filter for measurement value  values.value\n",
    "    msr_val = hypertension_charts [hypertension_charts['itemid'] == values.value]\n",
    "\n",
    "    #filtering out heart_rate values having count <2\n",
    "    rm_ptnt = msr_val.groupby(['subject_id','hadm_id'],as_index = False).valuenum.agg(['count']).reset_index() \n",
    "    rm_ptnt = rm_ptnt.loc[rm_ptnt['count']<2]\n",
    "    msr_val = msr_val.loc[~(msr_val['subject_id'].isin(rm_ptnt['subject_id']) & rm_ptnt['hadm_id'].isin(rm_ptnt['hadm_id']))]\n",
    "    \n",
    "    #filtering out top 500 values for each admission_id and subject_id\n",
    "    msr_val = msr_val.groupby(['subject_id','hadm_id']).head(500).reset_index() \n",
    "    \n",
    "#preparing data for LSTM\n",
    "    \n",
    "    #1. Ordering the records by charttime\n",
    "    new_df = msr_val.sort_values(['hadm_id','subject_id','charttime'], ascending=[True, True,True])\n",
    "\n",
    "    #groups by subject_id and hadm_id and makes a corresponding list of of all measurements values\n",
    "    filtered_data_lstm = new_df.groupby(['subject_id','hadm_id']).valuenum.apply(list).reset_index()\n",
    "\n",
    "    #2.merge one hospital_id admission to \n",
    "    filtered_data_lstm = pd.merge(hypertension_patients, filtered_data_lstm, on=['subject_id','hadm_id'], how='inner')\n",
    "\n",
    "    filtered_data_lstm = filtered_data_lstm.drop(['subject_id','hadm_id'],axis=1)\n",
    "    \n",
    "    #Splitting training into test and train\n",
    "    df_test,df_train = filtered_data_lstm.loc[filtered_data_lstm['train'] == 0],filtered_data_lstm.loc[filtered_data_lstm['train'] == 1]\n",
    "\n",
    "    X_train,X_test = df_train.drop(['hypertension','train'],axis=1),df_test.drop(['hypertension','train'],axis=1)\n",
    "\n",
    "\n",
    "    Y_train,Y_test = df_train[['hypertension']].values.squeeze(),df_test[['hypertension']].values.squeeze()\n",
    "    \n",
    "    #X_train_temp = X_train.values.tolist()\n",
    "    X_train = pd.Series(X_train['valuenum'], index=X_train.index)\n",
    "    X_train= np.array(pad_sequences(X_train))\n",
    "    X_train = np.expand_dims(X_train, axis=2)\n",
    "    \n",
    "    X_test = pd.Series(X_test['valuenum'], index=X_test.index)\n",
    "    X_test= np.array(pad_sequences(X_test))\n",
    "    X_test = np.expand_dims(X_test, axis=2)\n",
    "    \n",
    "# design network\n",
    "    model = Sequential()\n",
    "    model.add(LSTM(256))\n",
    "    model.add(Dropout(0.2))\n",
    "    #model.add(LSTM(100))\n",
    "    #model.add(Dropout(0.2))\n",
    "    model.add(Dense(1,init='normal', activation='sigmoid'))\n",
    "    model.compile(loss='binary_crossentropy',optimizer='adam',metrics=['accuracy'])\n",
    "    \n",
    "#fitting the lSTM model\n",
    "    model.fit(X_train,Y_train,epochs=5, batch_size=32,shuffle=True,validation_data=(X_test,Y_test))\n",
    "    \n",
    "    \n",
    "#predicting using the model\n",
    "    Y_pred = model.predict(X_test)\n",
    "    Y_pred = np.array(pd.DataFrame(Y_pred)[0].apply(lambda x: 1 if x>0.5 else 0))\n",
    "    Y_test_prob = model.predict_proba(X_test)\n",
    "    \n",
    "#AUC and F1 score\n",
    "    print(\"For measurement of \"+ values.name)\n",
    "    print(\"AUC: \",roc_auc_score(Y_test,Y_test_prob))\n",
    "    print(\"F1 Score\",f1_score(Y_test,Y_pred.round()))\n"
   ]
  }
 ],
 "metadata": {
  "accelerator": "GPU",
  "colab": {
   "machine_shape": "hm",
   "name": "ML4H.ipynb",
   "provenance": []
  },
  "kernelspec": {
   "display_name": "Python 3",
   "language": "python",
   "name": "python3"
  },
  "language_info": {
   "codemirror_mode": {
    "name": "ipython",
    "version": 3
   },
   "file_extension": ".py",
   "mimetype": "text/x-python",
   "name": "python",
   "nbconvert_exporter": "python",
   "pygments_lexer": "ipython3",
   "version": "3.7.4"
  }
 },
 "nbformat": 4,
 "nbformat_minor": 1
}
