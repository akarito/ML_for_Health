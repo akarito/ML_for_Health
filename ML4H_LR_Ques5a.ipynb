{
 "cells": [
  {
   "cell_type": "code",
   "execution_count": 2,
   "metadata": {},
   "outputs": [],
   "source": [
    "import sys\n",
    "from enum import Enum\n",
    "import tensorflow.keras\n",
    "import pandas as pd\n",
    "import sklearn as sk\n",
    "import tensorflow as tf\n",
    "import pandas as pd\n",
    "import numpy as np\n",
    "import seaborn as sns\n",
    "from sklearn.linear_model import LogisticRegression\n",
    "from sklearn import metrics\n",
    "import matplotlib.pyplot as plt\n",
    "from sklearn.metrics import confusion_matrix,roc_curve,roc_auc_score,classification_report,f1_score,recall_score"
   ]
  },
  {
   "cell_type": "code",
   "execution_count": 7,
   "metadata": {},
   "outputs": [],
   "source": [
    "import warnings\n",
    "warnings.filterwarnings('ignore') "
   ]
  },
  {
   "cell_type": "code",
   "execution_count": 3,
   "metadata": {},
   "outputs": [],
   "source": [
    "class measurement(Enum):\n",
    "    HEART_RATE = 220045\n",
    "    RESPIRATORY_RATE = 220210\n",
    "    O2_SATURATION = 220277\n",
    "    BLOOD_PRESSURE = 220181"
   ]
  },
  {
   "cell_type": "code",
   "execution_count": 4,
   "metadata": {},
   "outputs": [],
   "source": [
    "# Read the file into pandas dataframe\n",
    "hypertension_patients = pd.read_csv(\"C:/Users/Public/Output/adult_icu/hypertension_patients.csv\")"
   ]
  },
  {
   "cell_type": "code",
   "execution_count": 5,
   "metadata": {},
   "outputs": [],
   "source": [
    "# Read the file into pandas dataframe\n",
    "hypertension_charts = pd.read_csv(\"C:/Users/Public/Output/adult_icu/hypertension_charts.csv\")\n"
   ]
  },
  {
   "cell_type": "code",
   "execution_count": 9,
   "metadata": {
    "scrolled": false
   },
   "outputs": [
    {
     "name": "stdout",
     "output_type": "stream",
     "text": [
      "For measurement of HEART_RATE\n",
      "AUC:  0.5216536470428943\n",
      "F1 Score 0.0\n",
      "-------------------------------------------------------------------------------\n",
      "For measurement of RESPIRATORY_RATE\n",
      "AUC:  0.5270621743398866\n",
      "F1 Score 0.0021329541414859578\n",
      "-------------------------------------------------------------------------------\n",
      "For measurement of O2_SATURATION\n",
      "AUC:  0.5087042872546437\n",
      "F1 Score 0.0\n",
      "-------------------------------------------------------------------------------\n",
      "For measurement of BLOOD_PRESSURE\n",
      "AUC:  0.5254656624455121\n",
      "F1 Score 0.059080228264518295\n",
      "-------------------------------------------------------------------------------\n"
     ]
    }
   ],
   "source": [
    "for values in measurement:\n",
    "\n",
    "    #filtering in only required measurement  values  values.value\n",
    "    msr_val = hypertension_charts [hypertension_charts['itemid'] == values.value]\n",
    "\n",
    "    #filtering out heart_rate values having count <2\n",
    "    rm_ptnt = msr_val.groupby(['subject_id','hadm_id'],as_index = False).valuenum.agg(['count']).reset_index() \n",
    "    rm_ptnt = rm_ptnt.loc[rm_ptnt['count']<2]\n",
    "    msr_val = msr_val.loc[~(msr_val['subject_id'].isin(rm_ptnt['subject_id']) & rm_ptnt['hadm_id'].isin(rm_ptnt['hadm_id']))]\n",
    "\n",
    "\n",
    "    #finding min, max, mean of measurement vales based on subject_id and hadm_id\n",
    "    new_df_val = pd.core.frame.DataFrame(msr_val.groupby(['subject_id','hadm_id']).valuenum.agg(['mean','max','min'])).reset_index()\n",
    "\n",
    "    #joining to merge features and output data\n",
    "    new_df_val = pd.merge(new_df_val, hypertension_patients,  how='inner', on=['subject_id','hadm_id'])\n",
    "\n",
    "    #drop columns that are not required\n",
    "    new_df_val= new_df_val.drop(['subject_id','hadm_id'],axis=1)\n",
    "\n",
    "    #splitting data into test and train\n",
    "    df_test,df_train = new_df_val.loc[new_df_val['train'] == 0],new_df_val.loc[new_df_val['train'] == 1]\n",
    "    X_train,X_test = df_train.drop(['hypertension','train'],axis=1),df_test.drop(['hypertension','train'],axis=1)\n",
    "    Y_train,Y_test = df_train[['hypertension']].values.squeeze(),df_test[['hypertension']].values.squeeze()\n",
    "\n",
    "        \n",
    "    #specify the model \n",
    "    logreg = LogisticRegression(penalty='l2', max_iter=5000, solver='liblinear',random_state=0, C=1)\n",
    "    logreg.fit(X_train,Y_train)\n",
    "    Y_pred = logreg.predict(X_test)\n",
    "    Y_test_prob = logreg.predict_proba(X_test)\n",
    "  \n",
    "    print(\"For measurement of \"+ values.name)\n",
    "    print(\"AUC: \",roc_auc_score(Y_test,Y_test_prob[:,1]))\n",
    "    print(\"F1 Score\",f1_score(Y_test,Y_pred))\n",
    "\n",
    "    #ROC Curve\n",
    "    '''fpr, tpr, _ = metrics.roc_curve(Y_test,  Y_test_prob[:,1])\n",
    "    auc = metrics.roc_auc_score(Y_test, Y_test_prob[:,1])\n",
    "    plt.plot(fpr,tpr,label=\"data 1, auc=\"+str(auc),color='red')\n",
    "    plt.plot([0, 1], [0, 1], color='blue')\n",
    "    plt.legend(loc=4)\n",
    "    plt.xlabel('False Positive Rate')\n",
    "    plt.ylabel('True Positive Rate')\n",
    "    plt.title('Receiver operating characteristic')\n",
    "    plt.legend(loc=\"lower right\")'''\n",
    "    plt.show()\n",
    "    \n",
    "    print(\"-------------------------------------------------------------------------------\")"
   ]
  },
  {
   "cell_type": "code",
   "execution_count": null,
   "metadata": {},
   "outputs": [],
   "source": []
  },
  {
   "cell_type": "code",
   "execution_count": null,
   "metadata": {},
   "outputs": [],
   "source": []
  }
 ],
 "metadata": {
  "kernelspec": {
   "display_name": "Python 3",
   "language": "python",
   "name": "python3"
  },
  "language_info": {
   "codemirror_mode": {
    "name": "ipython",
    "version": 3
   },
   "file_extension": ".py",
   "mimetype": "text/x-python",
   "name": "python",
   "nbconvert_exporter": "python",
   "pygments_lexer": "ipython3",
   "version": "3.7.4"
  }
 },
 "nbformat": 4,
 "nbformat_minor": 2
}
