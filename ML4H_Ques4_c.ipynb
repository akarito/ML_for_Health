{
 "cells": [
  {
   "cell_type": "code",
   "execution_count": 1,
   "metadata": {},
   "outputs": [],
   "source": [
    "import pandas as pd\n",
    "import numpy as np\n",
    "import matplotlib.pyplot as plt\n",
    "from IPython.display import display\n",
    "from sklearn.model_selection import train_test_split\n",
    "from sklearn.linear_model import LogisticRegression\n",
    "from sklearn import metrics\n",
    "import seaborn as sns\n",
    "from sklearn import preprocessing\n",
    "import statsmodels.api as sm\n",
    "from nltk.corpus import stopwords\n",
    "from sklearn.feature_extraction.text import TfidfVectorizer\n",
    "from sklearn.feature_extraction.text import CountVectorizer\n",
    "from sklearn.linear_model import LogisticRegression\n",
    "from sklearn import metrics\n",
    "import seaborn as sns\n",
    "from sklearn import linear_model\n",
    "from sklearn import ensemble"
   ]
  },
  {
   "cell_type": "markdown",
   "metadata": {},
   "source": [
    "# Model 1"
   ]
  },
  {
   "cell_type": "code",
   "execution_count": 3,
   "metadata": {},
   "outputs": [],
   "source": [
    "#load data into test and train sets\n",
    "df1=pd.read_csv(\"C:/Users/Public/Output/adult_icu/adult_icu.csv\")\n",
    "\n",
    "\n",
    "binary_cols = ['first_hosp_stay', 'first_icu_stay', 'adult_icu', 'eth_asian', 'eth_black', 'eth_hispanic', 'eth_other', 'eth_white', 'admType_ELECTIVE', 'admType_EMERGENCY', 'admType_NEWBORN', 'admType_URGENT']\n",
    "non_binary_cols = [item for item in df1.columns if item not in binary_cols]\n",
    "\n",
    "#Scaling the data\n",
    "# MimMaxScaler is used because StandardScaler therefore cannot guarantee balanced feature scales in the presence of outliers.\n",
    "scaler = preprocessing.MinMaxScaler(feature_range=(0, 1))\n",
    "df_nb_scaled = scaler.fit_transform(df1[non_binary_cols])\n",
    "df_nb_scaled = pd.DataFrame(df_nb_scaled, columns=non_binary_cols)\n",
    "df_scaled = df_nb_scaled.join(df1[binary_cols])\n",
    "df1 = df_scaled\n",
    "#Seperating test and train sets\n",
    "df1_test = df1.loc[df1['train'] == 0]\n",
    "df1_train = df1.loc[df1['train'] == 1]\n",
    "\n",
    "\n",
    "#specify the feature columns and output variable\n",
    "feature_cols=['age','first_hosp_stay','first_icu_stay','adult_icu','eth_asian','eth_black',\n",
    "'eth_hispanic','eth_other','eth_white','admType_ELECTIVE','admType_EMERGENCY','admType_NEWBORN','admType_URGENT',\n",
    "'heartrate_min','heartrate_max','heartrate_mean','sysbp_min','sysbp_max','sysbp_mean','diasbp_min','diasbp_max',\n",
    "'diasbp_mean','meanbp_min','meanbp_max','meanbp_mean','resprate_min','resprate_max','resprate_mean','tempc_min',\n",
    "'tempc_max','tempc_mean','spo2_min','spo2_max','spo2_mean','glucose_min','glucose_max','glucose_mean','aniongap',\n",
    "'albumin','bicarbonate','bilirubin','creatinine','chloride','glucose','hematocrit','hemoglobin','lactate','magnesium',\n",
    "'phosphate','platelet','potassium','ptt','inr','pt','sodium','bun','wbc']\n",
    "\n",
    "X1_train = df1_train[feature_cols]\n",
    "y1_train = df1_train.mort_icu\n",
    "X1_test = df1_test[feature_cols]\n",
    "y1_test = df1_test.mort_icu\n",
    "\n",
    "#Training logistic regression model\n",
    "logreg1 = LogisticRegression(solver='lbfgs',penalty='l2',max_iter=5000)\n",
    "logreg1.fit(X1_train,y1_train)\n",
    "\n",
    "#Predicting using the trained model\n",
    "y1_pred=logreg1.predict(X1_test)\n",
    "\n"
   ]
  },
  {
   "cell_type": "code",
   "execution_count": 49,
   "metadata": {},
   "outputs": [],
   "source": [
    "y1_pred_proba = logreg1.predict_proba(X1_test)"
   ]
  },
  {
   "cell_type": "markdown",
   "metadata": {},
   "source": [
    "# Model 2"
   ]
  },
  {
   "cell_type": "code",
   "execution_count": 5,
   "metadata": {},
   "outputs": [],
   "source": [
    "#Reading data to a pandas dataframe\n",
    "df=pd.read_csv(\"C:/Users/Public/Output/adult_notes/adult_notes.csv\")\n",
    "#converting from object to string\n",
    "df['chartext'] = df['chartext'].astype(str)"
   ]
  },
  {
   "cell_type": "code",
   "execution_count": 6,
   "metadata": {},
   "outputs": [],
   "source": [
    "\n",
    "#Tokenize and remove punctuation\n",
    "from nltk.tokenize import RegexpTokenizer\n",
    "tokenizer = RegexpTokenizer(r'\\w+')\n",
    "df['chartext'] = df.apply(lambda row: tokenizer.tokenize(str(row['chartext'])), axis=1)\n",
    "df['chartext'] = df['chartext'].astype(str)\n"
   ]
  },
  {
   "cell_type": "code",
   "execution_count": 7,
   "metadata": {},
   "outputs": [],
   "source": [
    "#split into test and train data\n",
    "df_test = df.loc[df['train'] == 0]\n",
    "df_train = df.loc[df['train'] == 1]\n",
    "x_train=df_train['chartext']\n",
    "y_train=df_train['mort_icu'] \n",
    "x_test=df_test['chartext']\n",
    "y_test=df_test['mort_icu']"
   ]
  },
  {
   "cell_type": "code",
   "execution_count": 8,
   "metadata": {},
   "outputs": [
    {
     "data": {
      "text/plain": [
       "<19166x105220 sparse matrix of type '<class 'numpy.float64'>'\n",
       "\twith 9647858 stored elements in Compressed Sparse Row format>"
      ]
     },
     "execution_count": 8,
     "metadata": {},
     "output_type": "execute_result"
    }
   ],
   "source": [
    "#TDIDF on train data and removing stopwords\n",
    "vectorizer = TfidfVectorizer(lowercase=True,analyzer='word',token_pattern='[A-Za-z]+',stop_words= 'english',ngram_range=(1,1))\n",
    "train_vect = vectorizer.fit_transform(df_train['chartext'])\n",
    "train_vect"
   ]
  },
  {
   "cell_type": "code",
   "execution_count": 9,
   "metadata": {},
   "outputs": [],
   "source": [
    "#TDIDF on test data x_test.apply(lambda x: np.str_(x))\n",
    "test_vect = vectorizer.transform(x_test)"
   ]
  },
  {
   "cell_type": "code",
   "execution_count": 10,
   "metadata": {},
   "outputs": [
    {
     "name": "stderr",
     "output_type": "stream",
     "text": [
      "C:\\Users\\manis\\Anaconda3\\lib\\site-packages\\sklearn\\linear_model\\logistic.py:432: FutureWarning: Default solver will be changed to 'lbfgs' in 0.22. Specify a solver to silence this warning.\n",
      "  FutureWarning)\n"
     ]
    },
    {
     "data": {
      "text/plain": [
       "LogisticRegression(C=1.0, class_weight=None, dual=False, fit_intercept=True,\n",
       "                   intercept_scaling=1, l1_ratio=None, max_iter=5000,\n",
       "                   multi_class='warn', n_jobs=None, penalty='l1',\n",
       "                   random_state=None, solver='warn', tol=0.0001, verbose=0,\n",
       "                   warm_start=False)"
      ]
     },
     "execution_count": 10,
     "metadata": {},
     "output_type": "execute_result"
    }
   ],
   "source": [
    "#Regression model\n",
    "logreg = LogisticRegression(penalty='l1',max_iter=5000)\n",
    "logreg.fit(train_vect,y_train)"
   ]
  },
  {
   "cell_type": "code",
   "execution_count": 47,
   "metadata": {},
   "outputs": [],
   "source": [
    "y_pred=logreg.predict(test_vect)\n",
    "y_pred_proba = logreg.predict_proba(test_vect)"
   ]
  },
  {
   "cell_type": "markdown",
   "metadata": {},
   "source": [
    "# Combining model"
   ]
  },
  {
   "cell_type": "code",
   "execution_count": 60,
   "metadata": {},
   "outputs": [],
   "source": [
    "#Using bagging and avergaing the predictions of both the classifiers\n",
    "Y_merged_prob = (y_pred_proba+y1_pred_proba)/2"
   ]
  },
  {
   "cell_type": "code",
   "execution_count": 63,
   "metadata": {},
   "outputs": [
    {
     "name": "stdout",
     "output_type": "stream",
     "text": [
      "AUC SCORE IS:0.8612316113661884\n"
     ]
    },
    {
     "data": {
      "image/png": "[encoded data removed]",
      "text/plain": [
       "<Figure size 432x288 with 1 Axes>"
      ]
     },
     "metadata": {
      "needs_background": "light"
     },
     "output_type": "display_data"
    }
   ],
   "source": [
    "#ROC Curve\n",
    "fpr, tpr, _ = metrics.roc_curve(y_test, Y_merged_prob[:,1])\n",
    "auc = metrics.roc_auc_score(y_test, Y_merged_prob[:,1])\n",
    "plt.plot(fpr,tpr,label=\"data 1, auc=\"+str(auc),color='red')\n",
    "print(\"AUC SCORE IS:\"+str(auc) )\n",
    "plt.plot([0, 1], [0, 1], color='blue')\n",
    "plt.legend(loc=4)\n",
    "plt.xlabel('False Positive Rate')\n",
    "plt.ylabel('True Positive Rate')\n",
    "plt.title('Receiver operating characteristic')\n",
    "plt.legend(loc=\"lower right\")\n",
    "plt.show()"
   ]
  },
  {
   "cell_type": "code",
   "execution_count": null,
   "metadata": {},
   "outputs": [],
   "source": []
  }
 ],
 "metadata": {
  "kernelspec": {
   "display_name": "Python 3",
   "language": "python",
   "name": "python3"
  },
  "language_info": {
   "codemirror_mode": {
    "name": "ipython",
    "version": 3
   },
   "file_extension": ".py",
   "mimetype": "text/x-python",
   "name": "python",
   "nbconvert_exporter": "python",
   "pygments_lexer": "ipython3",
   "version": "3.7.4"
  }
 },
 "nbformat": 4,
 "nbformat_minor": 2
}
