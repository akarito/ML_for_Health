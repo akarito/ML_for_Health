{
 "cells": [
  {
   "cell_type": "code",
   "execution_count": 1,
   "metadata": {},
   "outputs": [],
   "source": [
    "import pandas as pd\n",
    "import numpy as np\n",
    "import matplotlib.pyplot as plt\n",
    "from IPython.display import display\n",
    "from sklearn.model_selection import train_test_split\n",
    "from sklearn.linear_model import LogisticRegression\n",
    "from sklearn import metrics\n",
    "import seaborn as sns\n",
    "from sklearn import preprocessing\n",
    "import statsmodels.api as sm\n",
    "from nltk.corpus import stopwords\n",
    "from sklearn.feature_extraction.text import TfidfVectorizer\n",
    "from sklearn.feature_extraction.text import CountVectorizer\n",
    "from sklearn.linear_model import LogisticRegression\n",
    "from sklearn import metrics\n",
    "import seaborn as sns\n",
    "from sklearn import linear_model\n",
    "from sklearn import ensemble"
   ]
  },
  {
   "cell_type": "markdown",
   "metadata": {},
   "source": [
    "# Model 1"
   ]
  },
  {
   "cell_type": "code",
   "execution_count": 2,
   "metadata": {},
   "outputs": [],
   "source": [
    "#load data into test and train sets\n",
    "df1=pd.read_csv(\"C:/Users/Public/Output/adult_icu/adult_icu.csv\")\n",
    "\n",
    "#Center to the mean and component wise scale to unit variance\n",
    "preprocessing.scale(df1)\n",
    "\n",
    "#Seperating test and train sets\n",
    "df1_test = df1.loc[df1['train'] == 0]\n",
    "df1_train = df1.loc[df1['train'] == 1]\n",
    "\n",
    "\n",
    "#specify the feature columns and output variable\n",
    "feature_cols=['age','first_hosp_stay','first_icu_stay','adult_icu','eth_asian','eth_black',\n",
    "'eth_hispanic','eth_other','eth_white','admType_ELECTIVE','admType_EMERGENCY','admType_NEWBORN','admType_URGENT',\n",
    "'heartrate_min','heartrate_max','heartrate_mean','sysbp_min','sysbp_max','sysbp_mean','diasbp_min','diasbp_max',\n",
    "'diasbp_mean','meanbp_min','meanbp_max','meanbp_mean','resprate_min','resprate_max','resprate_mean','tempc_min',\n",
    "'tempc_max','tempc_mean','spo2_min','spo2_max','spo2_mean','glucose_min','glucose_max','glucose_mean','aniongap',\n",
    "'albumin','bicarbonate','bilirubin','creatinine','chloride','glucose','hematocrit','hemoglobin','lactate','magnesium',\n",
    "'phosphate','platelet','potassium','ptt','inr','pt','sodium','bun','wbc']\n",
    "\n",
    "X1_train = df1_train[feature_cols]\n",
    "y1_train = df1_train.mort_icu\n",
    "X1_test = df1_test[feature_cols]\n",
    "y1_test = df1_test.mort_icu\n",
    "\n",
    "#Training logistic regression model\n",
    "logreg1 = LogisticRegression(solver='lbfgs',penalty='l2',max_iter=5000)\n",
    "logreg1.fit(X1_train,y1_train)\n",
    "\n",
    "#Predicting using the trained model\n",
    "y1_pred=logreg1.predict(X1_test)\n",
    "\n"
   ]
  },
  {
   "cell_type": "code",
   "execution_count": 4,
   "metadata": {},
   "outputs": [],
   "source": [
    "y1_pred_proba = logreg1.predict_proba(X1_test)[::,1]"
   ]
  },
  {
   "cell_type": "markdown",
   "metadata": {},
   "source": [
    "# Model 2"
   ]
  },
  {
   "cell_type": "code",
   "execution_count": 5,
   "metadata": {},
   "outputs": [],
   "source": [
    "#Reading data to a pandas dataframe\n",
    "df=pd.read_csv(\"C:/Users/Public/Output/adult_notes/adult_notes.csv\")\n",
    "#converting from object to string\n",
    "df['chartext'] = df['chartext'].astype(str)"
   ]
  },
  {
   "cell_type": "code",
   "execution_count": 8,
   "metadata": {},
   "outputs": [],
   "source": [
    "\n",
    "#Tokenize and remove punctuation\n",
    "from nltk.tokenize import RegexpTokenizer\n",
    "tokenizer = RegexpTokenizer(r'\\w+')\n",
    "df['chartext'] = df.apply(lambda row: tokenizer.tokenize(str(row['chartext'])), axis=1)\n",
    "df['chartext'] = df['chartext'].astype(str)\n"
   ]
  },
  {
   "cell_type": "code",
   "execution_count": 9,
   "metadata": {},
   "outputs": [],
   "source": [
    "#split into test and train data\n",
    "df_test = df.loc[df['train'] == 0]\n",
    "df_train = df.loc[df['train'] == 1]\n",
    "x_train=df_train['chartext']\n",
    "y_train=df_train['mort_icu'] \n",
    "x_test=df_test['chartext']\n",
    "y_test=df_test['mort_icu']"
   ]
  },
  {
   "cell_type": "code",
   "execution_count": 25,
   "metadata": {},
   "outputs": [
    {
     "data": {
      "text/plain": [
       "<19166x105220 sparse matrix of type '<class 'numpy.float64'>'\n",
       "\twith 9647858 stored elements in Compressed Sparse Row format>"
      ]
     },
     "execution_count": 25,
     "metadata": {},
     "output_type": "execute_result"
    }
   ],
   "source": [
    "#TDIDF on train data and removing stopwords\n",
    "vectorizer = TfidfVectorizer(lowercase=True,analyzer='word',token_pattern='[A-Za-z]+',stop_words= 'english',ngram_range=(1,1))\n",
    "train_vect = vectorizer.fit_transform(df_train['chartext'])\n",
    "train_vect"
   ]
  },
  {
   "cell_type": "code",
   "execution_count": 26,
   "metadata": {},
   "outputs": [],
   "source": [
    "#TDIDF on test data x_test.apply(lambda x: np.str_(x))\n",
    "test_vect = vectorizer.transform(x_test)"
   ]
  },
  {
   "cell_type": "code",
   "execution_count": 27,
   "metadata": {},
   "outputs": [
    {
     "name": "stderr",
     "output_type": "stream",
     "text": [
      "C:\\Users\\manis\\Anaconda3\\lib\\site-packages\\sklearn\\linear_model\\logistic.py:432: FutureWarning: Default solver will be changed to 'lbfgs' in 0.22. Specify a solver to silence this warning.\n",
      "  FutureWarning)\n"
     ]
    },
    {
     "data": {
      "text/plain": [
       "LogisticRegression(C=1.0, class_weight=None, dual=False, fit_intercept=True,\n",
       "                   intercept_scaling=1, l1_ratio=None, max_iter=5000,\n",
       "                   multi_class='warn', n_jobs=None, penalty='l1',\n",
       "                   random_state=None, solver='warn', tol=0.0001, verbose=0,\n",
       "                   warm_start=False)"
      ]
     },
     "execution_count": 27,
     "metadata": {},
     "output_type": "execute_result"
    }
   ],
   "source": [
    "#Regression model\n",
    "logreg = LogisticRegression(penalty='l1',max_iter=5000)\n",
    "logreg.fit(train_vect,y_train)"
   ]
  },
  {
   "cell_type": "code",
   "execution_count": 28,
   "metadata": {},
   "outputs": [],
   "source": [
    "y_pred=logreg.predict(test_vect)\n",
    "y_pred_proba = logreg.predict_proba(test_vect)[::,1]"
   ]
  },
  {
   "cell_type": "markdown",
   "metadata": {},
   "source": [
    "# Combining model"
   ]
  },
  {
   "cell_type": "code",
   "execution_count": 29,
   "metadata": {},
   "outputs": [],
   "source": [
    "y_merged_prob = (y_pred_proba+y1_pred_proba)/2"
   ]
  },
  {
   "cell_type": "code",
   "execution_count": 30,
   "metadata": {},
   "outputs": [
    {
     "data": {
      "image/png": "[encoded data removed]",
      "text/plain": [
       "<Figure size 432x288 with 1 Axes>"
      ]
     },
     "metadata": {
      "needs_background": "light"
     },
     "output_type": "display_data"
    }
   ],
   "source": [
    "#ROC Curve\n",
    "y_pred_proba_f = y_merged_prob\n",
    "fpr, tpr, _ = metrics.roc_curve(y_test,  y_pred_proba_f)\n",
    "auc = metrics.roc_auc_score(y_test, y_pred_proba)\n",
    "plt.plot(fpr,tpr,label=\"data 1, auc=\"+str(auc))\n",
    "plt.legend(loc=4)\n",
    "plt.xlabel('False Positive Rate')\n",
    "plt.ylabel('True Positive Rate')\n",
    "plt.title('Receiver operating characteristic')\n",
    "plt.legend(loc=\"lower right\")\n",
    "plt.show()"
   ]
  },
  {
   "cell_type": "code",
   "execution_count": 21,
   "metadata": {},
   "outputs": [],
   "source": [
    "stacked_prediction = np.column_stack((y1_pred,y_pred))\n",
    "metamodel = LogisticRegression()"
   ]
  },
  {
   "cell_type": "code",
   "execution_count": 23,
   "metadata": {},
   "outputs": [],
   "source": [
    "stacked_actual = y1_test"
   ]
  },
  {
   "cell_type": "code",
   "execution_count": 24,
   "metadata": {},
   "outputs": [],
   "source": [
    "train,valid,ytrain,yvalid =train_test_split(stacked_prediction ,stacked_actual ,test_size=0.7)"
   ]
  },
  {
   "cell_type": "code",
   "execution_count": 25,
   "metadata": {},
   "outputs": [],
   "source": [
    "metamodel.fit(train,ytrain)\n",
    "final_prediaction = metamodel.predict(valid)"
   ]
  },
  {
   "cell_type": "code",
   "execution_count": 26,
   "metadata": {},
   "outputs": [
    {
     "name": "stdout",
     "output_type": "stream",
     "text": [
      "Accuracy: 0.9041550279329609\n"
     ]
    }
   ],
   "source": [
    "print(\"Accuracy:\",metrics.accuracy_score(yvalid, final_prediaction ))"
   ]
  },
  {
   "cell_type": "code",
   "execution_count": 27,
   "metadata": {},
   "outputs": [],
   "source": [
    "y_predict_final =  metamodel.predict(stacked_prediction)"
   ]
  },
  {
   "cell_type": "code",
   "execution_count": 28,
   "metadata": {},
   "outputs": [
    {
     "name": "stdout",
     "output_type": "stream",
     "text": [
      "Accuracy: 0.9044243461256416\n"
     ]
    }
   ],
   "source": [
    "print(\"Accuracy:\",metrics.accuracy_score(y1_test, y_predict_final  ))"
   ]
  },
  {
   "cell_type": "code",
   "execution_count": 29,
   "metadata": {},
   "outputs": [
    {
     "data": {
      "image/png": "[encoded data removed]",
      "text/plain": [
       "<Figure size 432x288 with 1 Axes>"
      ]
     },
     "metadata": {
      "needs_background": "light"
     },
     "output_type": "display_data"
    }
   ],
   "source": [
    "#ROC Curve\n",
    "y_pred_proba = metamodel.predict_proba(stacked_prediction)[::,1]\n",
    "fpr, tpr, _ = metrics.roc_curve(y1_test,  y_pred_proba)\n",
    "auc = metrics.roc_auc_score(y1_test, y_pred_proba)\n",
    "plt.plot(fpr,tpr,label=\"data 1, auc=\"+str(auc))\n",
    "plt.legend(loc=4)\n",
    "plt.xlabel('False Positive Rate')\n",
    "plt.ylabel('True Positive Rate')\n",
    "plt.title('Receiver operating characteristic')\n",
    "plt.legend(loc=\"lower right\")\n",
    "plt.show()"
   ]
  },
  {
   "cell_type": "code",
   "execution_count": null,
   "metadata": {},
   "outputs": [],
   "source": []
  }
 ],
 "metadata": {
  "kernelspec": {
   "display_name": "Python 3",
   "language": "python",
   "name": "python3"
  },
  "language_info": {
   "codemirror_mode": {
    "name": "ipython",
    "version": 3
   },
   "file_extension": ".py",
   "mimetype": "text/x-python",
   "name": "python",
   "nbconvert_exporter": "python",
   "pygments_lexer": "ipython3",
   "version": "3.7.4"
  }
 },
 "nbformat": 4,
 "nbformat_minor": 2
}
